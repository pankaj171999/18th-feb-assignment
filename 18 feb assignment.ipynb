{
 "cells": [
  {
   "cell_type": "code",
   "execution_count": null,
   "id": "3408d75a-dc20-4dd5-8f3a-eed5675359b7",
   "metadata": {},
   "outputs": [],
   "source": [
    "Q1(Ans) API stands for Application Programming Interface. It is a software interface that acts as a bridge between two applications and helps them communicate. \n",
    "It enables web servers to integrate with other third-party applications and services in a hassle-free and easy manner\n",
    "Example \n",
    "Let's look at an example to understand APIs better.\n",
    "\n",
    "When you visit a restaurant to eat food, you do not simply go to the kitchen to place your order. Instead, you give your order details to the waiter. The waiter then sends the order to the kitchen. \n",
    "When the order is prepared, the waiter serves you the food that you initially requested. \n",
    "Now consider waiter as the API, kitchen as the web server, and yourself as the third-party application. In the case of APIs, \n",
    "the third-party application sends requests (food order in this case) to the API, and the API in return sends a response (the actual food).\n",
    "\n",
    "Real-world APIs\n",
    "Now that we understand the basics of API let's have a look at some very popular real-world APIs,\n",
    "\n",
    "Whatsapp API\n",
    "The first API in our list is Whatsapp. Today, all of us use WhatsApp to stay in touch with our family and friends. WhatsApp Business API is an API meant for large and medium businesses, \n",
    "enabling business enterprises to interact with customers worldwide. So WhatsApp, which was initially launched for personal use for everyone, has also paved its way into the business arena. \n",
    "The main advantage of using it is that WhatsApp Business API gives plenty of integrations with other services as well. \n",
    "It also supports various media message features like text, images, location, audio files, interactive buttons, etc. You can learn more about it here.\n",
    "\n",
    " \n",
    "\n",
    "YouTube API\n",
    "YouTube is another familiar name for all of us. The YouTube Data API lets developers add YouTube functionality to their applications. \n",
    "It allows us to search for videos, channels, upload videos, manage a playlist, and do a lot more in our web applications. You can learn more about it from their documentation page here."
   ]
  },
  {
   "cell_type": "code",
   "execution_count": null,
   "id": "bde9e349-7b60-411c-8f29-b5208c00d02a",
   "metadata": {},
   "outputs": [],
   "source": [
    "Q2(Ans)\n",
    "The advantages of using APIs are:\n",
    "Personalized Content: API enables businesses to get a clear understanding of the tastes and preferences of the customer. This allows businesses to make personalized recommendations and generate better customer leads and interactions.\n",
    "Automation: One no longer needs to make assumptions and interpretations manually. API does it all for you by managing all the workflow making business processes more productive and efficient.\n",
    "Fraud Prevention: API has various levels of security depending upon the type of API that you use which ensures that only authorized personnel have access to the data generated using API.\n",
    "Improved Competency: The information that is transmitted from one system to another is quickly intercepted and interpreted by API. This level of efficiency ensures information automatically available to every platform which leads to quicker and improved decision making.\n",
    "Adaptability: API can anticipate changes in terms of needs that arise in the due course of business. It used the technology at its disposal to analyze the information present within the system more closely and thus makes the service provisions more flexible.\n",
    "\n",
    "The disadvantages of using API\n",
    "Creating API is a very time-consuming process.\n",
    "A fixed scale is necessary.\n",
    "Imprecise boundary delineation.\n",
    "To create API, programming knowledge is necessary.\n",
    "Maintenance cost is very high.\n",
    "It can crash when testing API."
   ]
  },
  {
   "cell_type": "code",
   "execution_count": null,
   "id": "c4ef4746-5edb-4da8-b90e-2546c1033b2c",
   "metadata": {},
   "outputs": [],
   "source": [
    "Q3(Ans)\n",
    "Web API- it can be accessed over the web using the HTTP protocol. It is a framework that helps you to create and develop HTTP based RESTFUL services. \n",
    "The web API can be developed by using different technologies such as java, ASP.NET, etc. Web API is used in either a web server or a web browser.\n",
    "\n",
    "                   WEB API                                                                                                       API\n",
    " 1> A set of standards and protocols for accessing web-based software applications or web tools       1> An Application Programming Interface that allows software applications to interact with each other.\n",
    " 2>To access and retrieve data from a remote server                                                   2>Accessing databases and servers and Integrating third-party services and data into applications."
   ]
  },
  {
   "cell_type": "code",
   "execution_count": null,
   "id": "f3d837bf-5f9e-4a51-b27a-55a3c75c1867",
   "metadata": {},
   "outputs": [],
   "source": [
    "Q4(Ans)\n",
    "REpresentational State Transfer (REST) is a software architectural style that defines the constraints to create web services. \n",
    "The web services that follows the REST architectural style is called RESTful Web Services. It differentiates between the computer system and web services. \n",
    "The REST architectural style describes the six barriers.\n",
    "1.client-server\n",
    "2.stateless\n",
    "3.cacheable\n",
    "4.uniform interface\n",
    "5.layered system\n",
    "6.code on demand(optional)\n",
    "\n",
    "SOAP stands for Simple Object Access Protocol is a network platform used in a web service to exchange or communicate data between two different machines on a network. It uses the XML format of data to transfer messages over the HTTP protocol. In Web services, SOAP allows the user request to interact with other programming languages. In this way, it provides a way to communicate between applications running on different platforms (Operating system), with programming languages and technologies used in web service.\n",
    "\n",
    "\n",
    "\n",
    "\n",
    "\n",
    "\n",
    "\n"
   ]
  },
  {
   "cell_type": "code",
   "execution_count": null,
   "id": "88d4d3b7-9b5b-4e47-8a55-492584f747b2",
   "metadata": {},
   "outputs": [],
   "source": [
    "Q5(Ans)\n",
    "                        SOAP                                                                                     REST\n",
    "1.Relies on SOAP (Simple Object Access Protocol)                            1.Relies on REST (Representational State Transfer) architecture using HTTP.    \n",
    "2.Because it is XML based and relies on SOAP, it works with WSDL            2.It works with GET, POST, PUT, DELETE\n",
    "3.Works over HTTP, HTTPS, SMTP, XMPP                                        3.Works over HTTP and HTTPS\n",
    "4.Highly structured/typed                                                   4.Less structured -> less bulky data \n",
    "5.Designed with large enterprise applications in mind                       5.Designed with mobile devices in mind"
   ]
  }
 ],
 "metadata": {
  "kernelspec": {
   "display_name": "Python 3 (ipykernel)",
   "language": "python",
   "name": "python3"
  },
  "language_info": {
   "codemirror_mode": {
    "name": "ipython",
    "version": 3
   },
   "file_extension": ".py",
   "mimetype": "text/x-python",
   "name": "python",
   "nbconvert_exporter": "python",
   "pygments_lexer": "ipython3",
   "version": "3.10.8"
  }
 },
 "nbformat": 4,
 "nbformat_minor": 5
}
